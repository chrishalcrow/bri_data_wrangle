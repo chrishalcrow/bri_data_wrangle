{
 "cells": [
  {
   "cell_type": "code",
   "execution_count": 1,
   "id": "b60f87cb",
   "metadata": {},
   "outputs": [],
   "source": [
    "import pandas as pd\n",
    "from bri_data_wrangle.filepaths import get_protocol_from_sessions\n",
    "\n",
    "experiments = pd.read_pickle(\"/home/nolanlab/Work/Developing/fromgit/bri_data_wrangle/all_sessions_and_protocols.pkl\")"
   ]
  },
  {
   "cell_type": "code",
   "execution_count": 25,
   "id": "75e146c3",
   "metadata": {},
   "outputs": [
    {
     "name": "stdout",
     "output_type": "stream",
     "text": [
      "1544, 2023-05-10, ['of', 'obj', 'of2', 'opto', 'opto2'], ['1', '1', '1', 'U', '1']\n",
      "1544, 2023-03-29, ['of', 'obj', 'obj1', 'opto', 'opto1'], ['3', '3', '3', '4', '3']\n",
      "1738, 2024-03-15, ['of', 'obj', 'obj1', 'of1', 'opto'], ['3', '3', '3', 'U', '3']\n",
      "1868, 2025-04-15, ['of', 'obj', 'of1', 'obj1', 'of2', 'opto1', 'of', 'obj', 'opto', 'obj1', 'of1'], ['5', '6', '6', '6', '5', '5', '5', '6', '6', '6', '6']\n",
      "1868, 2025-04-08, ['of1', 'obj', 'of1', 'obj1', 'of2', 'opto', 'of', 'obj', 'opto', 'obj1', 'of2'], ['5', '5', '5', '6', '6', '6', '6', '5', '6', '6', '6']\n",
      "1868, 2025-04-01, ['of', 'obj', 'opto', 'obj1', 'of2', 'of1', 'obj', 'of1', 'opto'], ['6', '1', '6', '6', '6', '1', '1', '1', '6']\n",
      "1868, 2025-04-10, ['of', 'obj', 'of1', 'obj1', 'of2', 'opto', 'of', 'obj', 'opto', 'obj1', 'of2'], ['6', '6', '5', '6', '6', '6', '6', '6', '6', '6', '6']\n",
      "1868, 2025-04-17, ['of', 'obj', 'of1', 'obj1', 'of2', 'opto', 'of', 'obj', 'opto', 'obj1', 'of2'], ['6', '5', '5', '6', '6', '5', '6', '5', '5', '6', '6']\n",
      "1636, 2023-07-19, ['of', 'obj', 'obj2', 'of2', 'opto', 'opto2'], ['3', '3', '3', 'U', 'U', 'U']\n",
      "1636, 2023-07-28, ['of', 'obj', 'obj2', 'of2', 'opto', 'opto2'], ['3', '3', '3', 'U', 'U', 'U']\n",
      "1636, 2023-07-12, ['of', 'obj', 'of2', 'opto', 'opto2'], ['1', '1', '1', 'U', 'U']\n",
      "1636, 2023-07-24, ['of', 'obj', 'of2', 'opto', 'opto2'], ['1', '1', '1', 'U', 'U']\n",
      "1636, 2023-07-17, ['of', 'obj', 'of2', 'opto', 'opto2'], ['1', '1', '1', 'U', 'U']\n",
      "1636, 2023-08-16, ['of', 'obj', 'of2', 'opto', 'opto2'], ['1', '1', '1', 'U', 'U']\n",
      "1636, 2023-07-07, ['of', 'obj', 'opto', 'opto2'], ['1', '1', 'U', 'U']\n",
      "1636, 2023-07-14, ['of', 'obj', 'obj2', 'of2', 'opto', 'opto2'], ['3', '3', '3', '3', 'U', 'U']\n",
      "1884, 2025-04-10, ['of', 'obj', 'opto', 'obj1', 'of1', 'of', 'obj', 'of1', 'obj1', 'of2', 'opto'], ['6', '5', '5', '5', '6', '6', '5', '6', '5', '5', '5']\n",
      "1884, 2025-04-22, ['of', 'obj', 'opto', 'obj1', 'of1', 'of', 'obj', 'of1', 'obj1', 'of2', 'opto'], ['6', '5', '5', '5', '5', '6', '5', '5', '5', '5', '5']\n"
     ]
    }
   ],
   "source": [
    "for experiment in experiments.iterrows():\n",
    "    protocols = experiment[1]['protocols']\n",
    "    unique_protocols = set(protocols)\n",
    "    if len(unique_protocols) > 1:\n",
    "        print(f\"{experiment[1]['mouse']}, {experiment[1]['date']}, {experiment[1]['sessions']}, {protocols}\")"
   ]
  },
  {
   "cell_type": "code",
   "execution_count": null,
   "id": "4da561bc",
   "metadata": {},
   "outputs": [
    {
     "name": "stdout",
     "output_type": "stream",
     "text": [
      "1757, 2024-04-24, ['of'], U\n"
     ]
    }
   ],
   "source": [
    "for experiment in experiments.iterrows():\n",
    "    sessions = experiment[1]['sessions']\n",
    "    protocol = get_protocol_from_sessions(sessions)\n",
    "    if protocol == \"U\":\n",
    "        print(f\"{experiment[1]['mouse']}, {experiment[1]['date']}, {experiment[1]['sessions']}, {protocol}\")\n",
    "        \n",
    "\n"
   ]
  },
  {
   "cell_type": "code",
   "execution_count": null,
   "id": "ff177929",
   "metadata": {},
   "outputs": [],
   "source": []
  }
 ],
 "metadata": {
  "kernelspec": {
   "display_name": ".venv",
   "language": "python",
   "name": "python3"
  },
  "language_info": {
   "codemirror_mode": {
    "name": "ipython",
    "version": 3
   },
   "file_extension": ".py",
   "mimetype": "text/x-python",
   "name": "python",
   "nbconvert_exporter": "python",
   "pygments_lexer": "ipython3",
   "version": "3.13.2"
  }
 },
 "nbformat": 4,
 "nbformat_minor": 5
}
